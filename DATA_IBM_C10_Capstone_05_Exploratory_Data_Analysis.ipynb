{
  "nbformat": 4,
  "nbformat_minor": 0,
  "metadata": {
    "colab": {
      "provenance": [],
      "toc_visible": true
    },
    "kernelspec": {
      "name": "python3",
      "display_name": "Python 3"
    },
    "language_info": {
      "name": "python"
    }
  },
  "cells": [
    {
      "cell_type": "markdown",
      "source": [
        "<p style=\"text-align:center\">\n",
        "    <a href=\"https://skills.network\" target=\"_blank\">\n",
        "    <img src=\"https://cf-courses-data.s3.us.cloud-object-storage.appdomain.cloud/assets/logos/SN_web_lightmode.png\" width=\"300\" alt=\"Skills Network Logo\">\n",
        "    </a>\n",
        "</p>\n",
        "\n",
        "**<h1>Capstone</h1>**\n",
        "\n",
        "**<h1>SpaceX Falcon 9 First Stage Landing Prediction</h1>**"
      ],
      "metadata": {
        "id": "iqDv-qoTZZ4Z"
      }
    },
    {
      "cell_type": "markdown",
      "source": [
        "# **Exploratory Data Analysis**"
      ],
      "metadata": {
        "id": "Iy7mLrOHa1w2"
      }
    },
    {
      "cell_type": "markdown",
      "source": [
        "## **Overview**\n",
        "\n",
        "<h2>Introduction to Exploratory Data Analysis</h2>\n",
        "\n",
        "* First step in any data science project.\n",
        "* Purpose: To gain insights from the data before performing deeper analysis.\n",
        "\n",
        "<h2>First Lab: Performing Exploratory Data Analysis</h2>\n",
        "\n",
        "* Use a database to perform some initial exploration of the data.\n",
        "\n",
        "<h2>Second Lab: Predicting Falcon 9 First Stage Landing</h2>\n",
        "\n",
        "* Goal: Determine if data can be used to automatically predict whether Falcon 9’s first stage will land successfully.\n",
        "* Focus: Identify attributes that can help determine if the first stage is reusable."
      ],
      "metadata": {
        "id": "PmTArxIdaG0p"
      }
    },
    {
      "cell_type": "markdown",
      "source": [
        "## **Insights for Successful Landings**\n",
        "\n",
        "<h2>Success Rate Over Time</h2>\n",
        "\n",
        "* Improvement since 2013.\n",
        "* Launch Number can be incorporated as a feature to represent this improvement.\n",
        "\n",
        "<h2>Success Rate by Launch Site</h2>\n",
        "\n",
        "* Different launch sites show varying success rates:\n",
        "    * CCAFS LC-40: 60% success rate.\n",
        "    * KSC LC-39A & VAFB SLC 4E: Around 77% success rate.\n",
        "\n",
        "<h2>Combining Attributes for Better Predictions</h2>\n",
        "\n",
        "* Mass and Success Rate:\n",
        "    * CCAFS LC-40 has a 60% success rate overall.\n",
        "    * If payload mass is above 10,000 kg, success rate increases to 100%."
      ],
      "metadata": {
        "id": "2YrgsxQEa0MC"
      }
    },
    {
      "cell_type": "markdown",
      "source": [
        "## **Preparing for Machine Learning**\n",
        "\n",
        "<h2>Determining Correlated Attributes</h2>\n",
        "\n",
        "* Explore which attributes are strongly correlated with successful landings.\n",
        "One-Hot Encoding for Categorical Variables\n",
        "* Convert categorical variables into numerical format using one-hot encoding.\n",
        "\n",
        "<h2>Final Objective</h2>\n",
        "\n",
        "* Use these features to build a machine learning model to predict whether the Falcon 9’s first stage will successfully land."
      ],
      "metadata": {
        "id": "Lv-NlcHsbNSA"
      }
    }
  ]
}